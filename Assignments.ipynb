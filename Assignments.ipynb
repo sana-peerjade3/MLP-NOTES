{
 "cells": [
  {
   "cell_type": "code",
   "execution_count": null,
   "metadata": {
    "collapsed": true
   },
   "outputs": [],
   "source": [
    "Assignment 2 - 03/09/2025\n",
    "\n",
    "1. Write a Python program that takes the length and width of a rectangle from the user and prints its area.\n",
    "2. Write a program that asks the user for the side of a square and prints its perimeter.\n",
    "3. Take the base and height of a triangle as input and print its area.\n",
    "4. Write a program that asks the user for the radius of a circle and prints its circumference. (Use 3.14 for π).\n",
    "5. Take Principal (P), Rate (R), and Time (T) as input from the user and print the Simple Interest."
   ]
  },
  {
   "cell_type": "code",
   "execution_count": 1,
   "metadata": {},
   "outputs": [
    {
     "name": "stdout",
     "output_type": "stream",
     "text": [
      "Enter the length of the rectangle: 6\n",
      "Enter the width of the rectangle: 9\n",
      "area of rectangale = 54.0\n"
     ]
    }
   ],
   "source": [
    "#1. Write a Python program that takes the length and width of a rectangle from the user and prints its area.\n",
    "length = float(input(\"Enter the length of the rectangle: \"))\n",
    "width = float(input(\"Enter the width of the rectangle: \"))\n",
    "area = length * width\n",
    "print(f\"area of rectangale = {area}\")"
   ]
  },
  {
   "cell_type": "code",
   "execution_count": 2,
   "metadata": {},
   "outputs": [
    {
     "name": "stdout",
     "output_type": "stream",
     "text": [
      "enter the side length of square:4\n",
      "perimeter_of_square = 16.0\n"
     ]
    }
   ],
   "source": [
    "#2. Write a program that asks the user for the side of a square and prints its perimeter\n",
    "side = float(input(\"enter the side length of square:\" ))\n",
    "perimeter = 4 * side\n",
    "print(f\"perimeter_of_square = {perimeter}\")"
   ]
  },
  {
   "cell_type": "code",
   "execution_count": 3,
   "metadata": {},
   "outputs": [
    {
     "name": "stdout",
     "output_type": "stream",
     "text": [
      "enter height of tringle:6\n",
      "enter base of tringle:4\n",
      "area of tringle = 12.0\n"
     ]
    }
   ],
   "source": [
    "#3. Take the base and height of a triangle as input and print its area.\n",
    "a = float(input(\"enter height of tringle:\"))\n",
    "b = float(input(\"enter base of tringle:\"))\n",
    "area =a*b/2\n",
    "print(f\"area of tringle = {area}\")"
   ]
  },
  {
   "cell_type": "code",
   "execution_count": 4,
   "metadata": {},
   "outputs": [
    {
     "name": "stdout",
     "output_type": "stream",
     "text": [
      "enter radius of circle:6\n",
      "circumference of circle = 37.704\n"
     ]
    }
   ],
   "source": [
    "#4. Write a program that asks the user for the radius of a circle and prints its circumference. (Use 3.14 for π)\n",
    "r = float(input(\"enter radius of circle:\"))\n",
    "circumference = 3.142*r*2\n",
    "print(f\"circumference of circle = {circumference}\")"
   ]
  },
  {
   "cell_type": "code",
   "execution_count": 5,
   "metadata": {},
   "outputs": [
    {
     "name": "stdout",
     "output_type": "stream",
     "text": [
      "enter a principle:700\n",
      "enter a rate:2\n",
      "enter a time:6\n",
      "simple intrest = 84.0\n"
     ]
    }
   ],
   "source": [
    "#5. Take Principal (P), Rate (R), and Time (T) as input from the user and print the Simple Interest.\n",
    "p = float(input(\"enter a principle:\"))\n",
    "r = float(input(\"enter a rate:\"))\n",
    "t = float(input (\"enter a time:\"))\n",
    "i = p*r*t/100\n",
    "print(f\"simple intrest = {i}\")"
   ]
  },
  {
   "cell_type": "code",
   "execution_count": 6,
   "metadata": {},
   "outputs": [
    {
     "name": "stdout",
     "output_type": "stream",
     "text": [
      "enter your percentage:96\n",
      "distiction\n"
     ]
    }
   ],
   "source": [
    "#take a percentage from user and print their result\n",
    "#85-100=>distinction\n",
    "#60-84=>first class\n",
    "#50-59=>secend class\n",
    "#35-49=>pass\n",
    "#0-34=>fail\n",
    "per = float(input(\"enter your percentage:\"))\n",
    "if(per>=85 and per<=100):\n",
    "    print(\"distiction\")\n",
    "elif(per>=60 and per<=84):\n",
    "    print(\"first class\")\n",
    "elif(per>=50 and per<=59):\n",
    "    print(\"secend class\")\n",
    "elif(per>=35 and per<=49):\n",
    "    print(\"pass\")\n",
    "elif(per>=0 and per<=34):\n",
    "    print(\"fail\")\n",
    "else:\n",
    "    print(\"invalid output\")"
   ]
  },
  {
   "cell_type": "code",
   "execution_count": 7,
   "metadata": {},
   "outputs": [
    {
     "name": "stdout",
     "output_type": "stream",
     "text": [
      "enter the value:6\n",
      "even\n"
     ]
    }
   ],
   "source": [
    "#write a program to check the given number is even or odd\n",
    "\n",
    "n = int (input(\"enter the value:\"))\n",
    "if (n%2==0):\n",
    "    print(\"even\")\n",
    "else:\n",
    "    print(\"odd\")"
   ]
  },
  {
   "cell_type": "code",
   "execution_count": 8,
   "metadata": {},
   "outputs": [
    {
     "name": "stdout",
     "output_type": "stream",
     "text": [
      "enter the value:9\n",
      "positive number\n"
     ]
    }
   ],
   "source": [
    "#write a program to check the given input is positive number, negative number or zero\n",
    "n = int(input(\"enter the value:\"))\n",
    "if(n>0):\n",
    "    print(\"positive number\")\n",
    "elif(n<0):\n",
    "    print(\"negative number\")\n",
    "else:\n",
    "    print(\"zero\")"
   ]
  },
  {
   "cell_type": "code",
   "execution_count": 9,
   "metadata": {},
   "outputs": [
    {
     "name": "stdout",
     "output_type": "stream",
     "text": [
      "enter the purchase ammount:$600\n",
      "purchase ammount = 600\n",
      "discount ammount =60.0\n",
      "final ammount = 540.0\n"
     ]
    }
   ],
   "source": [
    "#ASSINGNMENT 03\n",
    "\n",
    "#1. E-commerce Discount Calculator\n",
    "#Scenario: An online store offers discounts based on the purchase amount:\n",
    "#10% discount for purchases between $100 and $500\n",
    "#20% discount for purchases above $500\n",
    "#No discount for purchases below $100\n",
    "#Task: Write a program that takes the purchase amount as input and calculates the discount and final amount to be paid.\n",
    "\n",
    "pa = int(input(\"enter the purchase ammount:$\"))\n",
    "if(100<= pa >=500):\n",
    " discount = 0.10*pa\n",
    "elif(pa>=500):\n",
    " discount = 0.20*pa\n",
    "else:\n",
    "    discount = 0\n",
    "fa = pa- discount\n",
    "print(f\"purchase ammount = {pa}\\ndiscount ammount ={discount}\\nfinal ammount = {fa}\")"
   ]
  },
  {
   "cell_type": "code",
   "execution_count": 10,
   "metadata": {},
   "outputs": [
    {
     "name": "stdout",
     "output_type": "stream",
     "text": [
      "enter the colour:Green\n",
      "Go\n"
     ]
    }
   ],
   "source": [
    "#2. Traffic Light Simulation\n",
    "#Scenario: Create a program that simulates a traffic light. The user inputs one of the colors: Red, Yellow, or Green. Based on the input:\n",
    "#If the input is Red, display \"Stop.\"\n",
    "#If the input is Yellow, display \"Ready to move.\"\n",
    "#If the input is Green, display \"Go.\"\n",
    "#For invalid input, display \"Invalid color.\"\n",
    "\n",
    "c = str(input(\"enter the colour:\"))\n",
    "if(c == \"Red\"):\n",
    "    print(\"stop\")\n",
    "elif(c == \"Yellow\"):\n",
    "    print(\"Ready to move\")\n",
    "elif(c == \"Green\"):\n",
    "    print(\"Go\")\n",
    "else:\n",
    "    print(\"invalid colour\")"
   ]
  },
  {
   "cell_type": "code",
   "execution_count": 11,
   "metadata": {},
   "outputs": [
    {
     "name": "stdout",
     "output_type": "stream",
     "text": [
      "enter your marks:78\n",
      "Grade B\n"
     ]
    }
   ],
   "source": [
    "#3. Grade Evaluation System\n",
    "#Scenario: A school uses the following grading system:\n",
    "#Marks >= 90: Grade A\n",
    "#Marks >= 75 and < 90: Grade B\n",
    "#Marks >= 50 and < 75: Grade C\n",
    "#Marks < 50: Fail\n",
    "#Task: Write a program that accepts the student's marks and displays their grade.\n",
    "\n",
    "marks = float(input(\"enter your marks:\"))\n",
    "if(marks>=90 and marks <=100):\n",
    "    print(\"Grade A\")\n",
    "elif(marks<90 and marks >=75):\n",
    "    print(\"Grade B\")\n",
    "elif(marks<75 and marks>50):\n",
    "     print(\"Grade c\")\n",
    "elif(marks<50 and marks>=0):\n",
    "    print(\"Fail\")\n",
    "else:\n",
    "    print(\"invalid input\")"
   ]
  },
  {
   "cell_type": "code",
   "execution_count": 12,
   "metadata": {},
   "outputs": [
    {
     "name": "stdout",
     "output_type": "stream",
     "text": [
      "enter your number:56\n",
      "n is even number\n",
      "n is not divisible by 5\n"
     ]
    }
   ],
   "source": [
    "#4. Odd or Even and Divisibility Check\n",
    "#Scenario: Write a program that takes an integer as input and checks:\n",
    "#Whether the number is odd or even\n",
    "#Whether the number is divisible by 5\n",
    "#Display appropriate messages for both conditions.\n",
    "n = int(input(\"enter your number:\"))\n",
    "if(n%2==0):\n",
    "   print(\"n is even number\")\n",
    "else:\n",
    "   print(\"n is a odd number\")\n",
    "if(n%5==0):\n",
    "   print(\"n is divisible by 5\")\n",
    "else:\n",
    "   print(\"n is not divisible by 5\")"
   ]
  },
  {
   "cell_type": "code",
   "execution_count": 13,
   "metadata": {},
   "outputs": [
    {
     "name": "stdout",
     "output_type": "stream",
     "text": [
      "enter your password:56784\n",
      "password is medium\n"
     ]
    }
   ],
   "source": [
    "#5.Password Strength Checker\n",
    "#Scenario: Write a program that checks the strength of a password based on these rules:\n",
    "#Length >= 8 characters: Strong\n",
    "#Length between 5 and 7 characters: Medium\n",
    "#Length < 5 characters: Weak password = str(input(\"enter your password:\"))\n",
    "password = input(\"enter your password:\")\n",
    "length = len (password)\n",
    "if(length>=8):\n",
    "    print(\"password is strong\")\n",
    "elif(length >=5 and length < 8):\n",
    "    print(\"password is medium\")\n",
    "else:\n",
    "    print(\"password is weak\")"
   ]
  },
  {
   "cell_type": "code",
   "execution_count": 14,
   "metadata": {},
   "outputs": [
    {
     "name": "stdout",
     "output_type": "stream",
     "text": [
      "enter a unit:$107\n",
      "total bill = 55.25$\n"
     ]
    }
   ],
   "source": [
    "# 6.Electricity Bill Calculator\n",
    "#Scenario: An electricity company charges its customers as follows:\n",
    "#First 100 units: $0.5 per unit\n",
    "#Next 100 units (101-200): $0.75 per unit\n",
    "#Above 200 units: $1 per unit\n",
    "#Task: Write a program that accepts the number of units consumed and calculates the total bill.\n",
    "\n",
    "unit = int(input(\"enter a unit:$\"))\n",
    "if (unit<=100):\n",
    "   eb=(unit*0.5)   \n",
    "elif(unit>100 and unit<=200):\n",
    "   dv=(unit - 100)\n",
    "   eb=(100*0.5)+(dv*0.75)\n",
    "else:\n",
    "    dv =(unit-200)\n",
    "    eb = (100*0.5)+(100*0.75)+(dv*1)\n",
    "print(f\"total bill = {eb}$\")"
   ]
  },
  {
   "cell_type": "code",
   "execution_count": 15,
   "metadata": {},
   "outputs": [
    {
     "name": "stdout",
     "output_type": "stream",
     "text": [
      "enter your age:67\n",
      "enter your income:7000\n",
      "you are not eligible for loan\n"
     ]
    }
   ],
   "source": [
    "#7. Eligibility for Loan Approval\n",
    "#Scenario: A bank approves loans based on these conditions:\n",
    "#Age should be between 21 and 60\n",
    "#Monthly income should be greater than or equal to $5000\n",
    "#Task: Write a program to check whether a person is eligible for the loan based on their age and monthly income.\n",
    "\n",
    "age = int(input(\"enter your age:\"))\n",
    "income = int(input(\"enter your income:\"))    \n",
    "if(age>=21 and age<=60 and income >=5000):    #if age >= 21 and age <= 60 and income >= 5000:\n",
    "    print(\"you are eligible for loan\")\n",
    "else:\n",
    "    print(\"you are not eligible for loan\")"
   ]
  },
  {
   "cell_type": "code",
   "execution_count": 17,
   "metadata": {},
   "outputs": [
    {
     "name": "stdout",
     "output_type": "stream",
     "text": [
      "enter the tempreture:18\n",
      "Cold weather\n"
     ]
    }
   ],
   "source": [
    "#8. Temperature Alert System\n",
    "#Scenario: A weather monitoring system alerts based on the temperature:\n",
    "#Below 0°C: \"Freezing weather\"\n",
    "#0°C to 20°C: \"Cold weather\"\n",
    "#21°C to 30°C: \"Warm weather\"\n",
    "#Above 30°C: \"Hot weather\"\n",
    "#Task: Write a program that takes the temperature as input and displays the corresponding alert message.\n",
    "\n",
    "temp=int(input(\"enter the tempreture:\"))\n",
    "if(temp<0):\n",
    "    print(\"Freezing weather\")\n",
    "elif(temp>=0 and temp<=20 ):\n",
    "    print(\"Cold weather\")\n",
    "elif(temp>=21 and temp<=30):\n",
    "    print(\"warm weather\")\n",
    "else:\n",
    "    print(\"Hot weather\")"
   ]
  },
  {
   "cell_type": "code",
   "execution_count": 18,
   "metadata": {},
   "outputs": [
    {
     "name": "stdout",
     "output_type": "stream",
     "text": [
      "enter your marks:95\n",
      "Grade A\n"
     ]
    }
   ],
   "source": [
    "#ASSIGNMENT 04\n",
    "\n",
    "#1. Grading System\n",
    "#Write a Python program that takes a student’s marks as input.\n",
    "#If marks ≥ 90 → print \"Grade A\"\n",
    "#Else if marks ≥ 75 → print \"Grade B\"\n",
    "#Else if marks ≥ 50 → print \"Grade C\"\n",
    "#Else → print \"Fail\"\n",
    "\n",
    "marks = int(input(\"enter your marks:\"))\n",
    "if(marks >=0 and marks <=100):\n",
    "    if(marks>=90):\n",
    "        print(\"Grade A\")\n",
    "    elif(marks>=75):\n",
    "        print(\"Grade B\")\n",
    "    elif(marks>=50):\n",
    "        print(\"Grade C\")\n",
    "    else:\n",
    "        print(\"Fail\")\n",
    "else:\n",
    "    print(\"invalid input\")"
   ]
  },
  {
   "cell_type": "code",
   "execution_count": 19,
   "metadata": {},
   "outputs": [
    {
     "name": "stdout",
     "output_type": "stream",
     "text": [
      "enter your balance:600\n",
      "enter ammount to withdrawal:500\n",
      "transaction is sucessfull\n"
     ]
    }
   ],
   "source": [
    "#2. ATM Withdrawal Check\n",
    "#Ask the user for:\n",
    "#Account balance\n",
    "#Amount to withdraw\n",
    "#Check using nested if:\n",
    "#If balance ≥ withdrawal amount → further check if withdrawal amount is a multiple of 100\n",
    "#If yes → \"Transaction Successful\"\n",
    "#Else → \"Enter amount in multiples of 100\"\n",
    "#Else → \"Insufficient Balance\"\n",
    "\n",
    "balance = float(input(\"enter your balance:\"))\n",
    "withdraw =float(input(\"enter ammount to withdrawal:\"))\n",
    "if(balance>=withdraw):\n",
    "    if(withdraw%100==0):\n",
    "        print(\"transaction is sucessfull\")\n",
    "    else:\n",
    "        print(\"enter ammont in multiples of 100\")\n",
    "else:\n",
    "    print(\"Insufficient balance\")"
   ]
  },
  {
   "cell_type": "code",
   "execution_count": 1,
   "metadata": {},
   "outputs": [
    {
     "name": "stdout",
     "output_type": "stream",
     "text": [
      "enter a tringle side a:6\n",
      "enter a tringle side b:7\n",
      "enter a tringle side c:5\n",
      "scalene\n"
     ]
    }
   ],
   "source": [
    "#3. Triangle Type Checker\n",
    "#Take three sides of a triangle as input.\n",
    "#First check if it forms a valid triangle (a+b > c, b+c > a, a+c > b).\n",
    "#If valid, then check:\n",
    "#If all sides are equal → \"Equilateral\"\n",
    "#Else if two sides are equal → \"Isosceles\"\n",
    "#Else → \"Scalene\"\n",
    "#Else → \"Not a Triangle\"\n",
    "\n",
    "a=int(input(\"enter a tringle side a:\"))\n",
    "b = int(input(\"enter a tringle side b:\"))\n",
    "c = int(input(\"enter a tringle side c:\"))\n",
    "if(a+b > c and b+c > a and a+c > b):\n",
    "    if(a==b==c):\n",
    "        print(\"Equilateral\")\n",
    "    elif(a==b or b==c or c==a):\n",
    "        print(\"Isosceles\")\n",
    "    else:\n",
    "        print(\"scalene\")\n",
    "else:\n",
    "    print(\"Not a Tringle\")"
   ]
  },
  {
   "cell_type": "code",
   "execution_count": 2,
   "metadata": {},
   "outputs": [
    {
     "name": "stdout",
     "output_type": "stream",
     "text": [
      "enter your age:19\n",
      "enter your citizen:Indian\n",
      "eligible to vote\n"
     ]
    }
   ],
   "source": [
    "#4. Voting Eligibility\n",
    "#Ask the user for age and citizenship (Indian/Other).\n",
    "#If age ≥ 18\n",
    "#If citizenship is Indian → \"Eligible to Vote\"\n",
    "#Else → \"Not Eligible (Non-Citizen)\"\n",
    "#Else → \"Not Eligible (Underage)\"\n",
    "\n",
    "age =float(input(\"enter your age:\"))\n",
    "citizen=str(input(\"enter your citizen:\"))\n",
    "if(age>=18):\n",
    "    if(citizen == \"Indian\"):\n",
    "        print(\"eligible to vote\")\n",
    "    else:\n",
    "        print(\"Not eligible(Non citizen)\")\n",
    "else:\n",
    "    print(\"Not eligible(Underage)\")"
   ]
  },
  {
   "cell_type": "code",
   "execution_count": 3,
   "metadata": {},
   "outputs": [
    {
     "name": "stdout",
     "output_type": "stream",
     "text": [
      "Enter the bill amount: 6000\n",
      "10% discount\n",
      "Discount amount: 600.0\n",
      "Total bill after discount: 5400.0\n"
     ]
    }
   ],
   "source": [
    "#5. Discount Calculator\n",
    "#Take the total bill amount as input.\n",
    "#If bill ≥ 5000\n",
    "#If bill ≥ 10000 → give 20% discount\n",
    "#Else → give 10% discount\n",
    "#Else\n",
    "#If bill ≥ 2000 → give 5% discount\n",
    "#Else → \"No Discount\"\n",
    "bill = int(input(\"Enter the bill amount: \"))\n",
    "\n",
    "if bill >= 5000:\n",
    "    if bill >= 10000:\n",
    "        dis = bill * 0.20\n",
    "        tb = bill - dis\n",
    "        print(\"20% discount\")\n",
    "    else:\n",
    "        dis = bill * 0.10\n",
    "        tb = bill - dis\n",
    "        print(\"10% discount\")\n",
    "elif bill >= 2000:\n",
    "    dis = bill * 0.05\n",
    "    tb = bill - dis\n",
    "    print(\"5% discount\")\n",
    "else:\n",
    "    dis = 0\n",
    "    tb = bill\n",
    "    print(\"No discount\")\n",
    "\n",
    "print(f\"Discount amount: {dis}\")\n",
    "print(f\"Total bill after discount: {tb}\")\n",
    "\n"
   ]
  },
  {
   "cell_type": "code",
   "execution_count": null,
   "metadata": {
    "collapsed": true
   },
   "outputs": [],
   "source": []
  }
 ],
 "metadata": {
  "kernelspec": {
   "display_name": "Python 3",
   "language": "python",
   "name": "python3"
  },
  "language_info": {
   "codemirror_mode": {
    "name": "ipython",
    "version": 3
   },
   "file_extension": ".py",
   "mimetype": "text/x-python",
   "name": "python",
   "nbconvert_exporter": "python",
   "pygments_lexer": "ipython3",
   "version": "3.6.3"
  }
 },
 "nbformat": 4,
 "nbformat_minor": 2
}
